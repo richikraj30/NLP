{
 "cells": [
  {
   "cell_type": "code",
   "execution_count": 1,
   "metadata": {},
   "outputs": [],
   "source": [
    "# Classification Problem\n",
    "# Comments of product is positive or negative\n",
    "words = [\n",
    "    \"running\", \"runner\", \"ran\",\n",
    "    \"played\", \"playing\", \"plays\",\n",
    "    \"connected\", \"connecting\", \"connection\",\n",
    "    \"caring\", \"cared\", \"cares\",\n",
    "    \"studies\", \"studying\", \"studied\",\n",
    "    \"walking\", \"walked\", \"walks\",\n",
    "    \"creation\", \"creating\", \"creates\",\n",
    "    \"relational\", \"related\", \"relating\",\n",
    "    \"crying\", \"cried\", \"cries\",\n",
    "    \"bigger\", \"biggest\"\n",
    "]\n"
   ]
  },
  {
   "cell_type": "markdown",
   "metadata": {},
   "source": [
    "### PorterStemmer"
   ]
  },
  {
   "cell_type": "code",
   "execution_count": 2,
   "metadata": {},
   "outputs": [
    {
     "name": "stderr",
     "output_type": "stream",
     "text": [
      "c:\\Users\\91780\\AppData\\Local\\Programs\\Python\\Python310\\lib\\site-packages\\scipy\\__init__.py:146: UserWarning: A NumPy version >=1.16.5 and <1.23.0 is required for this version of SciPy (detected version 1.26.4\n",
      "  warnings.warn(f\"A NumPy version >={np_minversion} and <{np_maxversion}\"\n"
     ]
    }
   ],
   "source": [
    "from nltk.stem import PorterStemmer"
   ]
  },
  {
   "cell_type": "code",
   "execution_count": 3,
   "metadata": {},
   "outputs": [],
   "source": [
    "PrterStemming = PorterStemmer()"
   ]
  },
  {
   "cell_type": "code",
   "execution_count": 4,
   "metadata": {},
   "outputs": [
    {
     "name": "stdout",
     "output_type": "stream",
     "text": [
      "running ----> run\n",
      "runner ----> runner\n",
      "ran ----> ran\n",
      "played ----> play\n",
      "playing ----> play\n",
      "plays ----> play\n",
      "connected ----> connect\n",
      "connecting ----> connect\n",
      "connection ----> connect\n",
      "caring ----> care\n",
      "cared ----> care\n",
      "cares ----> care\n",
      "studies ----> studi\n",
      "studying ----> studi\n",
      "studied ----> studi\n",
      "walking ----> walk\n",
      "walked ----> walk\n",
      "walks ----> walk\n",
      "creation ----> creation\n",
      "creating ----> creat\n",
      "creates ----> creat\n",
      "relational ----> relat\n",
      "related ----> relat\n",
      "relating ----> relat\n",
      "crying ----> cri\n",
      "cried ----> cri\n",
      "cries ----> cri\n",
      "bigger ----> bigger\n",
      "biggest ----> biggest\n"
     ]
    }
   ],
   "source": [
    "for word in words:\n",
    "    print(word + \" ----> \" + PrterStemming.stem(word))"
   ]
  },
  {
   "cell_type": "markdown",
   "metadata": {},
   "source": [
    "### RegexpStemmer Class"
   ]
  },
  {
   "cell_type": "code",
   "execution_count": 5,
   "metadata": {},
   "outputs": [],
   "source": [
    "from nltk.stem import RegexpStemmer"
   ]
  },
  {
   "cell_type": "code",
   "execution_count": 6,
   "metadata": {},
   "outputs": [],
   "source": [
    "# Dollar in the last means these regular expressions containing ing, s, e, able in the last will be removed.\n",
    "# But if it is the start it will not get removed\n",
    "reg_stemmer = RegexpStemmer('ing$|s$|e$|able$', min=4)"
   ]
  },
  {
   "cell_type": "code",
   "execution_count": 7,
   "metadata": {},
   "outputs": [
    {
     "data": {
      "text/plain": [
       "'eat'"
      ]
     },
     "execution_count": 7,
     "metadata": {},
     "output_type": "execute_result"
    }
   ],
   "source": [
    "reg_stemmer.stem('eatable')"
   ]
  },
  {
   "cell_type": "code",
   "execution_count": 8,
   "metadata": {},
   "outputs": [
    {
     "data": {
      "text/plain": [
       "'ingeat'"
      ]
     },
     "execution_count": 8,
     "metadata": {},
     "output_type": "execute_result"
    }
   ],
   "source": [
    "reg_stemmer.stem('ingeating')"
   ]
  },
  {
   "cell_type": "markdown",
   "metadata": {},
   "source": [
    "### SnowBall Stemmer"
   ]
  },
  {
   "cell_type": "code",
   "execution_count": 9,
   "metadata": {},
   "outputs": [],
   "source": [
    "from nltk.stem import SnowballStemmer"
   ]
  },
  {
   "cell_type": "code",
   "execution_count": 10,
   "metadata": {},
   "outputs": [],
   "source": [
    "snowballStemming = SnowballStemmer('english')"
   ]
  },
  {
   "cell_type": "code",
   "execution_count": 11,
   "metadata": {},
   "outputs": [
    {
     "name": "stdout",
     "output_type": "stream",
     "text": [
      "running -----> run\n",
      "runner -----> runner\n",
      "ran -----> ran\n",
      "played -----> play\n",
      "playing -----> play\n",
      "plays -----> play\n",
      "connected -----> connect\n",
      "connecting -----> connect\n",
      "connection -----> connect\n",
      "caring -----> care\n",
      "cared -----> care\n",
      "cares -----> care\n",
      "studies -----> studi\n",
      "studying -----> studi\n",
      "studied -----> studi\n",
      "walking -----> walk\n",
      "walked -----> walk\n",
      "walks -----> walk\n",
      "creation -----> creation\n",
      "creating -----> creat\n",
      "creates -----> creat\n",
      "relational -----> relat\n",
      "related -----> relat\n",
      "relating -----> relat\n",
      "crying -----> cri\n",
      "cried -----> cri\n",
      "cries -----> cri\n",
      "bigger -----> bigger\n",
      "biggest -----> biggest\n"
     ]
    }
   ],
   "source": [
    "for word in words:\n",
    "    print(word + \" -----> \" + snowballStemming.stem(word))"
   ]
  },
  {
   "cell_type": "code",
   "execution_count": 12,
   "metadata": {},
   "outputs": [
    {
     "data": {
      "text/plain": [
       "('fair', 'sport')"
      ]
     },
     "execution_count": 12,
     "metadata": {},
     "output_type": "execute_result"
    }
   ],
   "source": [
    "snowballStemming.stem(\"fairly\"), snowballStemming.stem(\"sportingly\")"
   ]
  },
  {
   "cell_type": "code",
   "execution_count": 13,
   "metadata": {},
   "outputs": [
    {
     "data": {
      "text/plain": [
       "('fairli', 'sportingli')"
      ]
     },
     "execution_count": 13,
     "metadata": {},
     "output_type": "execute_result"
    }
   ],
   "source": [
    "# PorterStemmer performing worse than SnowballStemmer in some cases\n",
    "PrterStemming.stem(\"fairly\"), PrterStemming.stem(\"Sportingly\") "
   ]
  },
  {
   "cell_type": "code",
   "execution_count": 15,
   "metadata": {},
   "outputs": [
    {
     "name": "stdout",
     "output_type": "stream",
     "text": [
      "relat\n"
     ]
    }
   ],
   "source": [
    "print(PrterStemming.stem('relational'))"
   ]
  },
  {
   "cell_type": "code",
   "execution_count": null,
   "metadata": {},
   "outputs": [],
   "source": []
  },
  {
   "cell_type": "code",
   "execution_count": null,
   "metadata": {},
   "outputs": [],
   "source": []
  },
  {
   "cell_type": "code",
   "execution_count": null,
   "metadata": {},
   "outputs": [],
   "source": []
  }
 ],
 "metadata": {
  "kernelspec": {
   "display_name": "Python 3",
   "language": "python",
   "name": "python3"
  },
  "language_info": {
   "codemirror_mode": {
    "name": "ipython",
    "version": 3
   },
   "file_extension": ".py",
   "mimetype": "text/x-python",
   "name": "python",
   "nbconvert_exporter": "python",
   "pygments_lexer": "ipython3",
   "version": "3.10.2"
  }
 },
 "nbformat": 4,
 "nbformat_minor": 2
}
